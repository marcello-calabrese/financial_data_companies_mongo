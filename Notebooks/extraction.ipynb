{
 "cells": [
  {
   "cell_type": "code",
   "execution_count": 1,
   "metadata": {},
   "outputs": [],
   "source": [
    "import pandas as pd\n",
    "import numpy as np\n",
    "import yfinance as yf\n",
    "\n"
   ]
  },
  {
   "cell_type": "code",
   "execution_count": 7,
   "metadata": {},
   "outputs": [
    {
     "name": "stdout",
     "output_type": "stream",
     "text": [
      "[*********************100%***********************]  1 of 1 completed\n",
      "[*********************100%***********************]  1 of 1 completed\n",
      "[*********************100%***********************]  1 of 1 completed\n",
      "[*********************100%***********************]  1 of 1 completed\n",
      "[*********************100%***********************]  1 of 1 completed\n"
     ]
    }
   ],
   "source": [
    "import warnings\n",
    "warnings.filterwarnings(\"ignore\")\n",
    "# create a list of symbol names we want to extract data for\n",
    "\n",
    "ticker_list = ['MSFT', 'ZION', 'IBM', 'JNJ', 'MCD']\n",
    "\n",
    "# extract company data from yahoo finance\n",
    "\n",
    "def data_extract(ticker_list):\n",
    "    # create a dataframe to store the data\n",
    "    df = pd.DataFrame()\n",
    "    # loop through the ticker list and extract the data\n",
    "    for ticker in ticker_list:\n",
    "        # extract the data\n",
    "        data = yf.download(ticker, start='2022-07-09', end='2022-07-12')\n",
    "        # add in the dataframe the symbol name and the data\n",
    "        df[ticker] = data['Adj Close']\n",
    "        # return the dataframe\n",
    "    return df\n",
    "        \n",
    "    \n",
    "    \n",
    "df = data_extract(ticker_list)\n"
   ]
  },
  {
   "cell_type": "code",
   "execution_count": 54,
   "metadata": {},
   "outputs": [
    {
     "data": {
      "text/plain": [
       "dict_keys(['zip', 'sector', 'fullTimeEmployees', 'longBusinessSummary', 'city', 'phone', 'state', 'country', 'companyOfficers', 'website', 'maxAge', 'address1', 'industry', 'ebitdaMargins', 'profitMargins', 'grossMargins', 'operatingCashflow', 'revenueGrowth', 'operatingMargins', 'ebitda', 'targetLowPrice', 'recommendationKey', 'grossProfits', 'freeCashflow', 'targetMedianPrice', 'currentPrice', 'earningsGrowth', 'currentRatio', 'returnOnAssets', 'numberOfAnalystOpinions', 'targetMeanPrice', 'debtToEquity', 'returnOnEquity', 'targetHighPrice', 'totalCash', 'totalDebt', 'totalRevenue', 'totalCashPerShare', 'financialCurrency', 'revenuePerShare', 'quickRatio', 'recommendationMean', 'exchange', 'shortName', 'longName', 'exchangeTimezoneName', 'exchangeTimezoneShortName', 'isEsgPopulated', 'gmtOffSetMilliseconds', 'quoteType', 'symbol', 'messageBoardId', 'market', 'annualHoldingsTurnover', 'enterpriseToRevenue', 'beta3Year', 'enterpriseToEbitda', '52WeekChange', 'morningStarRiskRating', 'forwardEps', 'revenueQuarterlyGrowth', 'sharesOutstanding', 'fundInceptionDate', 'annualReportExpenseRatio', 'totalAssets', 'bookValue', 'sharesShort', 'sharesPercentSharesOut', 'fundFamily', 'lastFiscalYearEnd', 'heldPercentInstitutions', 'netIncomeToCommon', 'trailingEps', 'lastDividendValue', 'SandP52WeekChange', 'priceToBook', 'heldPercentInsiders', 'nextFiscalYearEnd', 'yield', 'mostRecentQuarter', 'shortRatio', 'sharesShortPreviousMonthDate', 'floatShares', 'beta', 'enterpriseValue', 'priceHint', 'threeYearAverageReturn', 'lastSplitDate', 'lastSplitFactor', 'legalType', 'lastDividendDate', 'morningStarOverallRating', 'earningsQuarterlyGrowth', 'priceToSalesTrailing12Months', 'dateShortInterest', 'pegRatio', 'ytdReturn', 'forwardPE', 'lastCapGain', 'shortPercentOfFloat', 'sharesShortPriorMonth', 'impliedSharesOutstanding', 'category', 'fiveYearAverageReturn', 'previousClose', 'regularMarketOpen', 'twoHundredDayAverage', 'trailingAnnualDividendYield', 'payoutRatio', 'volume24Hr', 'regularMarketDayHigh', 'navPrice', 'averageDailyVolume10Day', 'regularMarketPreviousClose', 'fiftyDayAverage', 'trailingAnnualDividendRate', 'open', 'toCurrency', 'averageVolume10days', 'expireDate', 'algorithm', 'dividendRate', 'exDividendDate', 'circulatingSupply', 'startDate', 'regularMarketDayLow', 'currency', 'trailingPE', 'regularMarketVolume', 'lastMarket', 'maxSupply', 'openInterest', 'marketCap', 'volumeAllCurrencies', 'strikePrice', 'averageVolume', 'dayLow', 'ask', 'askSize', 'volume', 'fiftyTwoWeekHigh', 'fromCurrency', 'fiveYearAvgDividendYield', 'fiftyTwoWeekLow', 'bid', 'tradeable', 'dividendYield', 'bidSize', 'dayHigh', 'coinMarketCapLink', 'regularMarketPrice', 'preMarketPrice', 'logo_url', 'trailingPegRatio'])"
      ]
     },
     "execution_count": 54,
     "metadata": {},
     "output_type": "execute_result"
    }
   ],
   "source": [
    "# Dictionary of the financials data of yahoo.info for selected stocks\n",
    "\n",
    "# dict_keys(['zip', 'sector', 'fullTimeEmployees', 'longBusinessSummary',\n",
    "#  'city', 'phone', 'state', 'country', 'companyOfficers', 'website',\n",
    "# 'maxAge', 'address1', 'fax', 'industry', 'address2', 'ebitdaMargins',\n",
    "# 'profitMargins', 'grossMargins', 'operatingCashflow', 'revenueGrowth',\n",
    "# 'operatingMargins', 'ebitda', 'targetLowPrice', 'recommendationKey',\n",
    "# 'grossProfits', 'freeCashflow', 'targetMedianPrice', 'currentPrice',\n",
    "# 'earningsGrowth', 'currentRatio', 'returnOnAssets', 'numberOfAnalystOpinions',\n",
    "# 'targetMeanPrice', 'debtToEquity', '...'])\n",
    "\n",
    "zion = yf.Ticker('ZION')\n",
    "info = zion.info\n",
    "info.keys()"
   ]
  },
  {
   "cell_type": "code",
   "execution_count": 2,
   "metadata": {},
   "outputs": [],
   "source": [
    "\n",
    "##### this is the main part of the extraction ######\n",
    "\n",
    "msft = yf.Ticker('MSFT')\n",
    "zion = yf.Ticker('ZION')\n",
    "ibm = yf.Ticker('IBM')\n",
    "jnj = yf.Ticker('JNJ')\n",
    "mcd = yf.Ticker('MCD')\n",
    "\n",
    "dct2 = {'Company_name': [msft.info['longName'], zion.info['longName'], ibm.info['longName'], jnj.info['longName'], mcd.info['longName']],\n",
    "                    'Company_ticker': [msft.info['symbol'], zion.info['symbol'], ibm.info['symbol'], jnj.info['symbol'], mcd.info['symbol']],\n",
    "                    'Closed_price': [msft.info['previousClose'], zion.info['previousClose'], ibm.info['previousClose'], jnj.info['previousClose'], mcd.info['previousClose']],\n",
    "                    'Company_info': [msft.info['longBusinessSummary'], zion.info['longBusinessSummary'], ibm.info['longBusinessSummary'], jnj.info['longBusinessSummary'], mcd.info['longBusinessSummary']],\n",
    "                    'Company_PE': [msft.info['trailingPE'], zion.info['trailingPE'], ibm.info['trailingPE'], jnj.info['trailingPE'], mcd.info['trailingPE']],\n",
    "                    'Company_cash_flow': [msft.info['operatingCashflow'], zion.info['operatingCashflow'], ibm.info['operatingCashflow'], jnj.info['operatingCashflow'], mcd.info['freeCashflow']],\n",
    "                    'Company_dividend': [msft.info['dividendRate'], zion.info['dividendRate'], ibm.info['dividendRate'], jnj.info['dividendRate'], mcd.info['dividendRate']]}\n"
   ]
  },
  {
   "cell_type": "code",
   "execution_count": 3,
   "metadata": {},
   "outputs": [],
   "source": [
    "data_test = pd.DataFrame(dct2)"
   ]
  },
  {
   "cell_type": "code",
   "execution_count": 4,
   "metadata": {},
   "outputs": [
    {
     "data": {
      "text/html": [
       "<div>\n",
       "<style scoped>\n",
       "    .dataframe tbody tr th:only-of-type {\n",
       "        vertical-align: middle;\n",
       "    }\n",
       "\n",
       "    .dataframe tbody tr th {\n",
       "        vertical-align: top;\n",
       "    }\n",
       "\n",
       "    .dataframe thead th {\n",
       "        text-align: right;\n",
       "    }\n",
       "</style>\n",
       "<table border=\"1\" class=\"dataframe\">\n",
       "  <thead>\n",
       "    <tr style=\"text-align: right;\">\n",
       "      <th></th>\n",
       "      <th>Company_name</th>\n",
       "      <th>Company_ticker</th>\n",
       "      <th>Closed_price</th>\n",
       "      <th>Company_info</th>\n",
       "      <th>Company_PE</th>\n",
       "      <th>Company_cash_flow</th>\n",
       "      <th>Company_dividend</th>\n",
       "    </tr>\n",
       "  </thead>\n",
       "  <tbody>\n",
       "    <tr>\n",
       "      <th>0</th>\n",
       "      <td>Microsoft Corporation</td>\n",
       "      <td>MSFT</td>\n",
       "      <td>264.51</td>\n",
       "      <td>Microsoft Corporation develops, licenses, and ...</td>\n",
       "      <td>26.479124</td>\n",
       "      <td>87115997184</td>\n",
       "      <td>2.48</td>\n",
       "    </tr>\n",
       "    <tr>\n",
       "      <th>1</th>\n",
       "      <td>Zions Bancorporation, National Association</td>\n",
       "      <td>ZION</td>\n",
       "      <td>50.41</td>\n",
       "      <td>Zions Bancorporation, National Association pro...</td>\n",
       "      <td>8.149351</td>\n",
       "      <td>433000000</td>\n",
       "      <td>1.52</td>\n",
       "    </tr>\n",
       "    <tr>\n",
       "      <th>2</th>\n",
       "      <td>International Business Machines Corporation</td>\n",
       "      <td>IBM</td>\n",
       "      <td>141.00</td>\n",
       "      <td>International Business Machines Corporation pr...</td>\n",
       "      <td>22.857610</td>\n",
       "      <td>11130000384</td>\n",
       "      <td>6.60</td>\n",
       "    </tr>\n",
       "    <tr>\n",
       "      <th>3</th>\n",
       "      <td>Johnson &amp; Johnson</td>\n",
       "      <td>JNJ</td>\n",
       "      <td>178.35</td>\n",
       "      <td>Johnson &amp; Johnson, together with its subsidiar...</td>\n",
       "      <td>23.699461</td>\n",
       "      <td>23314999296</td>\n",
       "      <td>4.52</td>\n",
       "    </tr>\n",
       "    <tr>\n",
       "      <th>4</th>\n",
       "      <td>McDonald's Corporation</td>\n",
       "      <td>MCD</td>\n",
       "      <td>253.28</td>\n",
       "      <td>McDonald's Corporation operates and franchises...</td>\n",
       "      <td>26.555437</td>\n",
       "      <td>6319499776</td>\n",
       "      <td>5.52</td>\n",
       "    </tr>\n",
       "  </tbody>\n",
       "</table>\n",
       "</div>"
      ],
      "text/plain": [
       "                                  Company_name Company_ticker  Closed_price  \\\n",
       "0                        Microsoft Corporation           MSFT        264.51   \n",
       "1   Zions Bancorporation, National Association           ZION         50.41   \n",
       "2  International Business Machines Corporation            IBM        141.00   \n",
       "3                            Johnson & Johnson            JNJ        178.35   \n",
       "4                       McDonald's Corporation            MCD        253.28   \n",
       "\n",
       "                                        Company_info  Company_PE  \\\n",
       "0  Microsoft Corporation develops, licenses, and ...   26.479124   \n",
       "1  Zions Bancorporation, National Association pro...    8.149351   \n",
       "2  International Business Machines Corporation pr...   22.857610   \n",
       "3  Johnson & Johnson, together with its subsidiar...   23.699461   \n",
       "4  McDonald's Corporation operates and franchises...   26.555437   \n",
       "\n",
       "   Company_cash_flow  Company_dividend  \n",
       "0        87115997184              2.48  \n",
       "1          433000000              1.52  \n",
       "2        11130000384              6.60  \n",
       "3        23314999296              4.52  \n",
       "4         6319499776              5.52  "
      ]
     },
     "execution_count": 4,
     "metadata": {},
     "output_type": "execute_result"
    }
   ],
   "source": [
    "data_test"
   ]
  },
  {
   "cell_type": "markdown",
   "metadata": {},
   "source": [
    "### Next Steps: \n",
    "- Convert the dataframe to a json file\n",
    "- change the Peg ratio with another value\n",
    "- check the dypes\n",
    "- wrap the code in a function\n"
   ]
  },
  {
   "cell_type": "code",
   "execution_count": 55,
   "metadata": {},
   "outputs": [
    {
     "data": {
      "text/plain": [
       "Company_name          object\n",
       "Company_ticker        object\n",
       "Closed_price         float64\n",
       "Company_info          object\n",
       "Company_PE           float64\n",
       "Company_cash_flow      int64\n",
       "Company_dividend     float64\n",
       "dtype: object"
      ]
     },
     "execution_count": 55,
     "metadata": {},
     "output_type": "execute_result"
    }
   ],
   "source": [
    "# check the dtype of the dataframe\n",
    "\n",
    "data_test.dtypes"
   ]
  },
  {
   "cell_type": "markdown",
   "metadata": {},
   "source": [
    "## Create a function to extract the data\n",
    "\n",
    "[]: # Language: python\n",
    "[]: # Path: Notebooks\\extraction.ipynb"
   ]
  },
  {
   "cell_type": "code",
   "execution_count": 17,
   "metadata": {},
   "outputs": [],
   "source": [
    "def extract_ticker():\n",
    "    # extract the ticker data\n",
    "    msft = yf.Ticker('MSFT')\n",
    "    zion = yf.Ticker('ZION')\n",
    "    ibm = yf.Ticker('IBM')\n",
    "    jnj = yf.Ticker('JNJ')\n",
    "    mcd = yf.Ticker('MCD')\n",
    "    # create a dictionary to store the data\n",
    "    dct2 = {'Company_name': [msft.info['longName'], zion.info['longName'], ibm.info['longName'], jnj.info['longName'], mcd.info['longName']],\n",
    "                    'Company_ticker': [msft.info['symbol'], zion.info['symbol'], ibm.info['symbol'], jnj.info['symbol'], mcd.info['symbol']],\n",
    "                    'Closed_price': [msft.info['previousClose'], zion.info['previousClose'], ibm.info['previousClose'], jnj.info['previousClose'], mcd.info['previousClose']],\n",
    "                    'Company_info': [msft.info['longBusinessSummary'], zion.info['longBusinessSummary'], ibm.info['longBusinessSummary'], jnj.info['longBusinessSummary'], mcd.info['longBusinessSummary']],\n",
    "                    'Company_PE': [msft.info['trailingPE'], zion.info['trailingPE'], ibm.info['trailingPE'], jnj.info['trailingPE'], mcd.info['trailingPE']],\n",
    "                    'Company_cash_flow': [msft.info['operatingCashflow'], zion.info['operatingCashflow'], ibm.info['operatingCashflow'], jnj.info['operatingCashflow'], mcd.info['freeCashflow']],\n",
    "                    'Company_dividend': [msft.info['dividendRate'], zion.info['dividendRate'], ibm.info['dividendRate'], jnj.info['dividendRate'], mcd.info['dividendRate']]}\n",
    "    # store the dct2 in a json object\n",
    "    \n",
    "    # create a dataframe to store the data\n",
    "    df = pd.DataFrame(dct2)\n",
    "    # return the dataframe\n",
    "    return df\n",
    "\n"
   ]
  },
  {
   "cell_type": "code",
   "execution_count": 18,
   "metadata": {},
   "outputs": [
    {
     "data": {
      "text/html": [
       "<div>\n",
       "<style scoped>\n",
       "    .dataframe tbody tr th:only-of-type {\n",
       "        vertical-align: middle;\n",
       "    }\n",
       "\n",
       "    .dataframe tbody tr th {\n",
       "        vertical-align: top;\n",
       "    }\n",
       "\n",
       "    .dataframe thead th {\n",
       "        text-align: right;\n",
       "    }\n",
       "</style>\n",
       "<table border=\"1\" class=\"dataframe\">\n",
       "  <thead>\n",
       "    <tr style=\"text-align: right;\">\n",
       "      <th></th>\n",
       "      <th>Company_name</th>\n",
       "      <th>Company_ticker</th>\n",
       "      <th>Closed_price</th>\n",
       "      <th>Company_info</th>\n",
       "      <th>Company_PE</th>\n",
       "      <th>Company_cash_flow</th>\n",
       "      <th>Company_dividend</th>\n",
       "    </tr>\n",
       "  </thead>\n",
       "  <tbody>\n",
       "    <tr>\n",
       "      <th>0</th>\n",
       "      <td>Microsoft Corporation</td>\n",
       "      <td>MSFT</td>\n",
       "      <td>252.72</td>\n",
       "      <td>Microsoft Corporation develops, licenses, and ...</td>\n",
       "      <td>26.546452</td>\n",
       "      <td>87115997184</td>\n",
       "      <td>2.48</td>\n",
       "    </tr>\n",
       "    <tr>\n",
       "      <th>1</th>\n",
       "      <td>Zions Bancorporation, National Association</td>\n",
       "      <td>ZION</td>\n",
       "      <td>49.57</td>\n",
       "      <td>Zions Bancorporation, National Association pro...</td>\n",
       "      <td>7.879870</td>\n",
       "      <td>433000000</td>\n",
       "      <td>1.52</td>\n",
       "    </tr>\n",
       "    <tr>\n",
       "      <th>2</th>\n",
       "      <td>International Business Machines Corporation</td>\n",
       "      <td>IBM</td>\n",
       "      <td>137.18</td>\n",
       "      <td>International Business Machines Corporation pr...</td>\n",
       "      <td>22.860075</td>\n",
       "      <td>11130000384</td>\n",
       "      <td>6.60</td>\n",
       "    </tr>\n",
       "    <tr>\n",
       "      <th>3</th>\n",
       "      <td>Johnson &amp; Johnson</td>\n",
       "      <td>JNJ</td>\n",
       "      <td>175.44</td>\n",
       "      <td>Johnson &amp; Johnson, together with its subsidiar...</td>\n",
       "      <td>23.703505</td>\n",
       "      <td>23314999296</td>\n",
       "      <td>4.52</td>\n",
       "    </tr>\n",
       "    <tr>\n",
       "      <th>4</th>\n",
       "      <td>McDonald's Corporation</td>\n",
       "      <td>MCD</td>\n",
       "      <td>252.67</td>\n",
       "      <td>McDonald's Corporation operates and franchises...</td>\n",
       "      <td>26.699577</td>\n",
       "      <td>6319499776</td>\n",
       "      <td>5.52</td>\n",
       "    </tr>\n",
       "  </tbody>\n",
       "</table>\n",
       "</div>"
      ],
      "text/plain": [
       "                                  Company_name Company_ticker  Closed_price  \\\n",
       "0                        Microsoft Corporation           MSFT        252.72   \n",
       "1   Zions Bancorporation, National Association           ZION         49.57   \n",
       "2  International Business Machines Corporation            IBM        137.18   \n",
       "3                            Johnson & Johnson            JNJ        175.44   \n",
       "4                       McDonald's Corporation            MCD        252.67   \n",
       "\n",
       "                                        Company_info  Company_PE  \\\n",
       "0  Microsoft Corporation develops, licenses, and ...   26.546452   \n",
       "1  Zions Bancorporation, National Association pro...    7.879870   \n",
       "2  International Business Machines Corporation pr...   22.860075   \n",
       "3  Johnson & Johnson, together with its subsidiar...   23.703505   \n",
       "4  McDonald's Corporation operates and franchises...   26.699577   \n",
       "\n",
       "   Company_cash_flow  Company_dividend  \n",
       "0        87115997184              2.48  \n",
       "1          433000000              1.52  \n",
       "2        11130000384              6.60  \n",
       "3        23314999296              4.52  \n",
       "4         6319499776              5.52  "
      ]
     },
     "execution_count": 18,
     "metadata": {},
     "output_type": "execute_result"
    }
   ],
   "source": [
    "# test the function\n",
    "\n",
    "extract_ticker()"
   ]
  },
  {
   "cell_type": "markdown",
   "metadata": {},
   "source": [
    "### Applying a Transformation of the dataframe where we change numeric values into float 32 and then storing the dataframe in a json file\n",
    "\n",
    "the transformation function has been tested and copied under the notebook transform.ipynb\n",
    "\n",
    "    "
   ]
  },
  {
   "cell_type": "code",
   "execution_count": 22,
   "metadata": {},
   "outputs": [],
   "source": []
  },
  {
   "cell_type": "code",
   "execution_count": null,
   "metadata": {},
   "outputs": [],
   "source": []
  }
 ],
 "metadata": {
  "kernelspec": {
   "display_name": "Python 3.8.8 ('base')",
   "language": "python",
   "name": "python3"
  },
  "language_info": {
   "codemirror_mode": {
    "name": "ipython",
    "version": 3
   },
   "file_extension": ".py",
   "mimetype": "text/x-python",
   "name": "python",
   "nbconvert_exporter": "python",
   "pygments_lexer": "ipython3",
   "version": "3.8.8"
  },
  "orig_nbformat": 4,
  "vscode": {
   "interpreter": {
    "hash": "b2709a926c9f6aef7953f73905cb2828c9442fdc91e292c06715773ef7269352"
   }
  }
 },
 "nbformat": 4,
 "nbformat_minor": 2
}

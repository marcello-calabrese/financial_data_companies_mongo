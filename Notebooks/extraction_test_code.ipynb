{
 "cells": [
  {
   "cell_type": "code",
   "execution_count": 4,
   "metadata": {},
   "outputs": [],
   "source": [
    "\"\"\"\n",
    "Creata an extraction function to:\n",
    "    1. download info on P/E ratio for a Ticker list data from yfinance package\n",
    "    2. Store info data in a dataframe\n",
    "    3. Make dtypes float32\n",
    "    4. Convert the dataframe in a json format\n",
    "\"\"\"\n",
    "\n",
    "import yfinance as yf\n",
    "import pandas as pd\n",
    "import json\n",
    "import numpy as np"
   ]
  },
  {
   "cell_type": "code",
   "execution_count": 15,
   "metadata": {},
   "outputs": [],
   "source": [
    "ticker_list = ['AMZN', 'AAPL', 'MSFT', 'GOOG', 'FB']\n",
    "\n",
    "def get_pe_ratio(ticker):\n",
    "    ticker = yf.Ticker(ticker)\n",
    "    pe_ratio = ticker.info['trailingPE']\n",
    "    return pe_ratio\n",
    "\n",
    "\n",
    "def get_pe_list(ticker_list):\n",
    "    pe_list = []\n",
    "    for ticker in ticker_list:\n",
    "        pe_ratio = get_pe_ratio(ticker)\n",
    "        pe_list.append(pe_ratio)\n",
    "    return pe_list\n",
    "\n",
    "\n",
    "def create_df(ticker_list, pe_list):\n",
    "    df = pd.DataFrame({'Ticker': ticker_list, 'P/E Ratio': pe_list})\n",
    "    return df\n",
    "\n",
    "\n",
    "def convert_df_json(df):\n",
    "    df_json = df.to_json(orient='records')\n",
    "    return df_json"
   ]
  },
  {
   "cell_type": "code",
   "execution_count": 17,
   "metadata": {},
   "outputs": [],
   "source": [
    "get_pe_list(ticker_list)\n",
    "df1 = create_df(ticker_list, get_pe_list(ticker_list))\n",
    "\n"
   ]
  },
  {
   "cell_type": "code",
   "execution_count": 18,
   "metadata": {},
   "outputs": [
    {
     "data": {
      "text/html": [
       "<div>\n",
       "<style scoped>\n",
       "    .dataframe tbody tr th:only-of-type {\n",
       "        vertical-align: middle;\n",
       "    }\n",
       "\n",
       "    .dataframe tbody tr th {\n",
       "        vertical-align: top;\n",
       "    }\n",
       "\n",
       "    .dataframe thead th {\n",
       "        text-align: right;\n",
       "    }\n",
       "</style>\n",
       "<table border=\"1\" class=\"dataframe\">\n",
       "  <thead>\n",
       "    <tr style=\"text-align: right;\">\n",
       "      <th></th>\n",
       "      <th>Ticker</th>\n",
       "      <th>P/E Ratio</th>\n",
       "    </tr>\n",
       "  </thead>\n",
       "  <tbody>\n",
       "    <tr>\n",
       "      <th>0</th>\n",
       "      <td>AMZN</td>\n",
       "      <td>53.019420</td>\n",
       "    </tr>\n",
       "    <tr>\n",
       "      <th>1</th>\n",
       "      <td>AAPL</td>\n",
       "      <td>23.717073</td>\n",
       "    </tr>\n",
       "    <tr>\n",
       "      <th>2</th>\n",
       "      <td>MSFT</td>\n",
       "      <td>26.479124</td>\n",
       "    </tr>\n",
       "    <tr>\n",
       "      <th>3</th>\n",
       "      <td>GOOG</td>\n",
       "      <td>21.278278</td>\n",
       "    </tr>\n",
       "    <tr>\n",
       "      <th>4</th>\n",
       "      <td>FB</td>\n",
       "      <td>12.350227</td>\n",
       "    </tr>\n",
       "  </tbody>\n",
       "</table>\n",
       "</div>"
      ],
      "text/plain": [
       "  Ticker  P/E Ratio\n",
       "0   AMZN  53.019420\n",
       "1   AAPL  23.717073\n",
       "2   MSFT  26.479124\n",
       "3   GOOG  21.278278\n",
       "4     FB  12.350227"
      ]
     },
     "execution_count": 18,
     "metadata": {},
     "output_type": "execute_result"
    }
   ],
   "source": [
    "df1"
   ]
  },
  {
   "cell_type": "code",
   "execution_count": null,
   "metadata": {},
   "outputs": [],
   "source": []
  }
 ],
 "metadata": {
  "kernelspec": {
   "display_name": "Python 3.8.8 ('base')",
   "language": "python",
   "name": "python3"
  },
  "language_info": {
   "codemirror_mode": {
    "name": "ipython",
    "version": 3
   },
   "file_extension": ".py",
   "mimetype": "text/x-python",
   "name": "python",
   "nbconvert_exporter": "python",
   "pygments_lexer": "ipython3",
   "version": "3.8.8"
  },
  "orig_nbformat": 4,
  "vscode": {
   "interpreter": {
    "hash": "b2709a926c9f6aef7953f73905cb2828c9442fdc91e292c06715773ef7269352"
   }
  }
 },
 "nbformat": 4,
 "nbformat_minor": 2
}

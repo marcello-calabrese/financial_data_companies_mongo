{
 "cells": [
  {
   "cell_type": "markdown",
   "metadata": {},
   "source": [
    "## Transformation notebook from the extraction notebook"
   ]
  },
  {
   "cell_type": "code",
   "execution_count": null,
   "metadata": {},
   "outputs": [],
   "source": [
    "import pandas as pd\n",
    "import numpy as np\n",
    "import yfinance as yf\n",
    "import json\n"
   ]
  },
  {
   "cell_type": "code",
   "execution_count": null,
   "metadata": {},
   "outputs": [],
   "source": [
    "# extraction function from extraction.ipynb\n",
    "\n",
    "def extract_ticker():\n",
    "    # extract the ticker data\n",
    "    msft = yf.Ticker('MSFT')\n",
    "    zion = yf.Ticker('ZION')\n",
    "    ibm = yf.Ticker('IBM')\n",
    "    jnj = yf.Ticker('JNJ')\n",
    "    mcd = yf.Ticker('MCD')\n",
    "    # create a dictionary to store the data\n",
    "    dct2 = {'Company_name': [msft.info['longName'], zion.info['longName'], ibm.info['longName'], jnj.info['longName'], mcd.info['longName']],\n",
    "                    'Company_ticker': [msft.info['symbol'], zion.info['symbol'], ibm.info['symbol'], jnj.info['symbol'], mcd.info['symbol']],\n",
    "                    'Closed_price': [msft.info['previousClose'], zion.info['previousClose'], ibm.info['previousClose'], jnj.info['previousClose'], mcd.info['previousClose']],\n",
    "                    'Company_info': [msft.info['longBusinessSummary'], zion.info['longBusinessSummary'], ibm.info['longBusinessSummary'], jnj.info['longBusinessSummary'], mcd.info['longBusinessSummary']],\n",
    "                    'Company_PE': [msft.info['trailingPE'], zion.info['trailingPE'], ibm.info['trailingPE'], jnj.info['trailingPE'], mcd.info['trailingPE']],\n",
    "                    'Company_cash_flow': [msft.info['operatingCashflow'], zion.info['operatingCashflow'], ibm.info['operatingCashflow'], jnj.info['operatingCashflow'], mcd.info['freeCashflow']],\n",
    "                    'Company_dividend': [msft.info['dividendRate'], zion.info['dividendRate'], ibm.info['dividendRate'], jnj.info['dividendRate'], mcd.info['dividendRate']]}\n",
    "    # store the dct2 in a json object\n",
    "    \n",
    "    # create a dataframe to store the data\n",
    "    df = pd.DataFrame(dct2)\n",
    "    # return the dataframe\n",
    "    return df"
   ]
  },
  {
   "cell_type": "code",
   "execution_count": null,
   "metadata": {},
   "outputs": [],
   "source": [
    "# transformation function built\n",
    "\n",
    "def transform_data():\n",
    "    # create a dataframe to store the data\n",
    "    df_transformed = extract_ticker()\n",
    "    # round the values of the dataset to 2 decimal places\n",
    "    df_transformed = df_transformed.round(2)\n",
    "    \n",
    "    # convert the dataframe into a json file\n",
    "    json_file = df_transformed.to_json('test_json1.json' ,indent=4, orient='records')\n",
    "    return json_file"
   ]
  },
  {
   "cell_type": "code",
   "execution_count": null,
   "metadata": {},
   "outputs": [],
   "source": [
    "transform_data()"
   ]
  }
 ],
 "metadata": {
  "kernelspec": {
   "display_name": "Python 3.8.13 ('mflix')",
   "language": "python",
   "name": "python3"
  },
  "language_info": {
   "name": "python",
   "version": "3.8.13"
  },
  "orig_nbformat": 4,
  "vscode": {
   "interpreter": {
    "hash": "a48a3960a3e8790e2b4de11d92cd86baae1879cb03dc963905a0ee70c675b6bc"
   }
  }
 },
 "nbformat": 4,
 "nbformat_minor": 2
}
